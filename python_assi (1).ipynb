{
  "nbformat": 4,
  "nbformat_minor": 0,
  "metadata": {
    "colab": {
      "provenance": []
    },
    "kernelspec": {
      "name": "python3",
      "display_name": "Python 3"
    },
    "language_info": {
      "name": "python"
    }
  },
  "cells": [
    {
      "cell_type": "markdown",
      "source": [
        " # Functions\n",
        ""
      ],
      "metadata": {
        "id": "TxGDLYmFg-GW"
      }
    },
    {
      "cell_type": "markdown",
      "source": [
        "1.   what is functions\n",
        "\n",
        "     - function are the reusable block of code\n",
        "\n",
        "2.   second question\n",
        "\n",
        "     - this is answer for second question\n",
        "\n"
      ],
      "metadata": {
        "id": "7vXSqP-niHv5"
      }
    },
    {
      "cell_type": "code",
      "execution_count": 2,
      "metadata": {
        "colab": {
          "base_uri": "https://localhost:8080/",
          "height": 36
        },
        "id": "SSVKHdCVghP5",
        "outputId": "3d574219-1cf3-4a98-89cf-14df679a8bf2"
      },
      "outputs": [
        {
          "output_type": "execute_result",
          "data": {
            "text/plain": [
              "'\\n\\nthis is sample\\n\\n\\n'"
            ],
            "application/vnd.google.colaboratory.intrinsic+json": {
              "type": "string"
            }
          },
          "metadata": {},
          "execution_count": 2
        }
      ],
      "source": [
        "# sample code\n",
        "'''\n",
        "\n",
        "this is sample\n",
        "\n",
        "\n",
        "'''"
      ]
    }
  ]
}